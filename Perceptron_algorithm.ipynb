{
 "cells": [
  {
   "cell_type": "markdown",
   "metadata": {},
   "source": [
    "#### Importing required modules"
   ]
  },
  {
   "cell_type": "code",
   "execution_count": 1,
   "metadata": {},
   "outputs": [],
   "source": [
    "import numpy as np\n",
    "import pandas as pd\n",
    "import random\n",
    "import matplotlib.pyplot as plt"
   ]
  },
  {
   "cell_type": "markdown",
   "metadata": {},
   "source": [
    "#### Defining a function which converts normal data points to reflected data points"
   ]
  },
  {
   "cell_type": "code",
   "execution_count": 2,
   "metadata": {},
   "outputs": [],
   "source": [
    "def data_reflect(values,labels):\n",
    "    for i in range(len(values)):\n",
    "        if(labels[i]==2):\n",
    "            values[i]*=-1\n",
    "    return values"
   ]
  },
  {
   "cell_type": "markdown",
   "metadata": {},
   "source": [
    "#### Defining a function to Convert the data to augmented Space"
   ]
  },
  {
   "cell_type": "code",
   "execution_count": 3,
   "metadata": {},
   "outputs": [],
   "source": [
    "def convert_augmented(data):\n",
    "    Aug_data=[]\n",
    "    for i in range(len(data)):\n",
    "        k=np.hstack((1,np.array(data[i])))\n",
    "        Aug_data.append(k)\n",
    "    return np.array(Aug_data)"
   ]
  },
  {
   "cell_type": "markdown",
   "metadata": {},
   "source": [
    "#### Defining a function which performs Perceptron Learning"
   ]
  },
  {
   "cell_type": "code",
   "execution_count": 45,
   "metadata": {},
   "outputs": [],
   "source": [
    "def Perceptron_train(data,eta,D,labels):\n",
    "    Augm_data=convert_augmented(data)\n",
    "    ref_data=data_reflect(Augm_data,labels)\n",
    "    #Shuffling the data\n",
    "    shuffled_indices=random.sample([i for i in range(len(data))],len(data))\n",
    "    W=(np.ones(D+1)*0.1)\n",
    "    epoch=0\n",
    "    weight_list=[]\n",
    "    cost_list=[]\n",
    "    #Running for 10000 iterations\n",
    "    while epoch<=10000:\n",
    "        Cost_J=0\n",
    "        for j in shuffled_indices:\n",
    "            if(np.matmul(W,(ref_data[j]))<=0):\n",
    "                W+=(eta*ref_data[j].T)\n",
    "                Cost_J+=np.dot(W,ref_data[j])\n",
    "        #If the cost is zero, all points are correctly classified\n",
    "        if Cost_J==0:\n",
    "           print(\"Data is Linearly seperable\")\n",
    "        #Appending weights and costs after 9500 iterations\n",
    "        if epoch>=9500:\n",
    "            weight_list.append(W.reshape(3,1))\n",
    "            cost_list.append(Cost_J)\n",
    "        if epoch==10000:\n",
    "            weight_index=min(range(len(cost_list)),key=lambda k:abs(cost_list[k]))\n",
    "            weight_final=weight_list[weight_index]\n",
    "            Cost=cost_list[weight_index]\n",
    "            print(\"Data is Not linearly seperable\")\n",
    "        epoch+=1\n",
    "    return weight_final,-1*Cost"
   ]
  },
  {
   "cell_type": "markdown",
   "metadata": {},
   "source": [
    "#### Function to classify data based on trained algorithm's weight vector"
   ]
  },
  {
   "cell_type": "code",
   "execution_count": 29,
   "metadata": {},
   "outputs": [],
   "source": [
    "def classify_data(W,data):\n",
    "    classified_labels=[]\n",
    "    aug_data=convert_augmented(data)\n",
    "    for i in range(len(data)):\n",
    "        if(np.dot(W.T,aug_data[i].reshape(3,1)))>0:\n",
    "            classified_labels.append(1)\n",
    "        else:\n",
    "            classified_labels.append(2)\n",
    "    return classified_labels"
   ]
  },
  {
   "cell_type": "markdown",
   "metadata": {},
   "source": [
    "#### Function to get error rate"
   ]
  },
  {
   "cell_type": "code",
   "execution_count": 30,
   "metadata": {},
   "outputs": [],
   "source": [
    "def error_rate_calc(pred_labels, act_labels):\n",
    "    er_count=0\n",
    "    for i in range(len(pred_labels)):\n",
    "        if(pred_labels[i]!=act_labels[i]):\n",
    "            er_count+=1\n",
    "    return er_count/len(pred_labels)*100"
   ]
  },
  {
   "cell_type": "markdown",
   "metadata": {},
   "source": [
    "#### Modified function of plotDecBoundaries"
   ]
  },
  {
   "cell_type": "code",
   "execution_count": 31,
   "metadata": {},
   "outputs": [],
   "source": [
    "def plot_Decision_boundaries(data, labels, weight):\n",
    "    \n",
    "    #Feature range defining for plotting\n",
    "    max_x = np.ceil(max(data[:, 0])) + 1\n",
    "    min_x = np.floor(min(data[:, 0])) - 1\n",
    " \n",
    "    plot_x = np.arange(min_x, max_x, 0.01) \n",
    "    #Plotting the data\n",
    "    plt.plot(data[labels == 1, 0],data[labels == 1, 1], 'rx')\n",
    "    plt.plot(data[labels == 2, 0],data[labels == 2, 1], 'go')\n",
    "    #Specifying legend\n",
    "    l1 = plt.legend(('Class-1', 'Class-2'), loc=4)\n",
    "    plt.plot(plot_x, (-1 * weight[1] * plot_x - weight[0]) / weight[2], c='b', label = \"decision_boundary\")\n",
    "    plt.gca().add_artist(l1)\n",
    "    plt.show()\n",
    "    "
   ]
  },
  {
   "cell_type": "markdown",
   "metadata": {},
   "source": [
    "#### For synthetic dataset 1"
   ]
  },
  {
   "cell_type": "code",
   "execution_count": 32,
   "metadata": {},
   "outputs": [],
   "source": [
    "syn_1_train=(pd.read_csv(\"/Users/krishnakamaladidam/Downloads/python3/synthetic1_train.csv\",header=None)).values\n",
    "syn_1_train_values=syn_1_train[:,[0,1]]\n",
    "syn_1_train_labels=syn_1_train[:,-1]"
   ]
  },
  {
   "cell_type": "markdown",
   "metadata": {},
   "source": [
    "##### Running perceptron algorithm on Synthetic dataset 1"
   ]
  },
  {
   "cell_type": "code",
   "execution_count": 46,
   "metadata": {},
   "outputs": [
    {
     "name": "stdout",
     "output_type": "stream",
     "text": [
      "Data is Not linearly seperable\n"
     ]
    }
   ],
   "source": [
    "weight_final_train_syn1,cost_syn1=Perceptron_train(syn_1_train_values,1,2,syn_1_train_labels)\n",
    "classified_labels_syn1_train=classify_data(weight_final_train_syn1,syn_1_train_values)"
   ]
  },
  {
   "cell_type": "markdown",
   "metadata": {},
   "source": [
    "##### For training data"
   ]
  },
  {
   "cell_type": "code",
   "execution_count": 47,
   "metadata": {},
   "outputs": [
    {
     "name": "stdout",
     "output_type": "stream",
     "text": [
      "final weight for training set 1 is [[ 37.1    ]\n",
      " [-64.38367]\n",
      " [ 60.63242]]\n",
      "The error rate on training set for synthetic dataset 1 is 2.0:\n",
      "The cost after iterations is -0.04582342124912486:\n"
     ]
    }
   ],
   "source": [
    "error_rate_train_syn1=error_rate_calc(classified_labels_syn1_train,syn_1_train_labels)\n",
    "print(\"final weight for training set 1 is {0}\".format(weight_final_train_syn1))\n",
    "print(\"The error rate on training set for synthetic dataset 1 is {0}:\".format(error_rate_train_syn1))\n",
    "print(\"The cost after iterations is {0}:\".format(cost_syn1))"
   ]
  },
  {
   "cell_type": "markdown",
   "metadata": {},
   "source": [
    "##### Plotting the decision region and boundary for training set for synthetic dataset 1"
   ]
  },
  {
   "cell_type": "code",
   "execution_count": 49,
   "metadata": {},
   "outputs": [
    {
     "data": {
      "image/png": "[encoded data removed]",
      "text/plain": [
       "<Figure size 432x288 with 1 Axes>"
      ]
     },
     "metadata": {
      "needs_background": "light"
     },
     "output_type": "display_data"
    }
   ],
   "source": [
    "plot_Decision_boundaries(syn_1_train_values,syn_1_train_labels,weight_final_train_syn1)"
   ]
  },
  {
   "cell_type": "markdown",
   "metadata": {},
   "source": [
    "##### For test set"
   ]
  },
  {
   "cell_type": "code",
   "execution_count": 50,
   "metadata": {},
   "outputs": [
    {
     "name": "stdout",
     "output_type": "stream",
     "text": [
      "The error rate on test set for synthetic dataset 1 is 1.0:\n"
     ]
    }
   ],
   "source": [
    "syn_1_test=(pd.read_csv(\"/Users/krishnakamaladidam/Downloads/python3/synthetic1_test.csv\",header=None)).values\n",
    "syn_1_test_values=syn_1_test[:,[0,1]]\n",
    "syn_1_test_labels=syn_1_test[:,-1]\n",
    "classified_labels_syn1_test=classify_data(weight_final_train_syn1,syn_1_test_values)\n",
    "error_rate_test_syn1=error_rate_calc(classified_labels_syn1_test,syn_1_test_labels)\n",
    "\n",
    "print(\"The error rate on test set for synthetic dataset 1 is {0}:\".format(error_rate_test_syn1))"
   ]
  },
  {
   "cell_type": "markdown",
   "metadata": {},
   "source": [
    "#### For synthetic dataset 2"
   ]
  },
  {
   "cell_type": "code",
   "execution_count": 51,
   "metadata": {},
   "outputs": [],
   "source": [
    "syn_2_train=(pd.read_csv(\"/Users/krishnakamaladidam/Downloads/python3/synthetic2_train.csv\",header=None)).values\n",
    "syn_2_train_values=syn_2_train[:,[0,1]]\n",
    "syn_2_train_labels=syn_2_train[:,-1]"
   ]
  },
  {
   "cell_type": "code",
   "execution_count": 52,
   "metadata": {},
   "outputs": [
    {
     "name": "stdout",
     "output_type": "stream",
     "text": [
      "Data is Not linearly seperable\n"
     ]
    }
   ],
   "source": [
    "weight_final_2,cost_syn2=Perceptron_train(syn_2_train_values,1,2,syn_2_train_labels)\n",
    "classified_labels_2=classify_data(weight_final_2,syn_2_train_values)"
   ]
  },
  {
   "cell_type": "code",
   "execution_count": 63,
   "metadata": {},
   "outputs": [
    {
     "name": "stdout",
     "output_type": "stream",
     "text": [
      "final weight for training set 2 is [[ 2.1     ]\n",
      " [ 0.770615]\n",
      " [10.861888]]\n",
      "The error rate on training set for synthetic dataset 2 is 1.0:\n",
      "The cost after iterations is 0.6619908227717048\n"
     ]
    }
   ],
   "source": [
    "error_rate_train_syn2=error_rate_calc(classified_labels_2,syn_2_train_labels)\n",
    "print(\"final weight for training set 2 is {0}\".format(weight_final_2))\n",
    "print(\"The error rate on training set for synthetic dataset 2 is {0}:\".format(error_rate_train_syn2))\n",
    "print(\"The cost after iterations is {0}\".format(cost_syn2))"
   ]
  },
  {
   "cell_type": "code",
   "execution_count": 54,
   "metadata": {},
   "outputs": [
    {
     "data": {
      "image/png": "[encoded data removed]",
      "text/plain": [
       "<Figure size 432x288 with 1 Axes>"
      ]
     },
     "metadata": {
      "needs_background": "light"
     },
     "output_type": "display_data"
    }
   ],
   "source": [
    "plot_Decision_boundaries(syn_2_train_values,syn_2_train_labels,weight_final_2)"
   ]
  },
  {
   "cell_type": "markdown",
   "metadata": {},
   "source": [
    "##### For test set"
   ]
  },
  {
   "cell_type": "code",
   "execution_count": 55,
   "metadata": {},
   "outputs": [
    {
     "name": "stdout",
     "output_type": "stream",
     "text": [
      "The error rate on test set for synthetic dataset 2 is 8.0:\n"
     ]
    }
   ],
   "source": [
    "syn_2_test=(pd.read_csv(\"/Users/krishnakamaladidam/Downloads/python3/synthetic2_test.csv\",header=None)).values\n",
    "syn_2_test_values=syn_2_test[:,[0,1]]\n",
    "syn_2_test_labels=syn_2_test[:,-1]\n",
    "classified_labels_syn2_test=classify_data(weight_final_2,syn_2_test_values)\n",
    "error_rate_test_syn2=error_rate_calc(classified_labels_syn2_test,syn_2_test_labels)\n",
    "\n",
    "print(\"The error rate on test set for synthetic dataset 2 is {0}:\".format(error_rate_test_syn2))"
   ]
  },
  {
   "cell_type": "markdown",
   "metadata": {},
   "source": [
    "#### For wine dataset"
   ]
  },
  {
   "cell_type": "code",
   "execution_count": 56,
   "metadata": {},
   "outputs": [],
   "source": [
    "wine_train=(pd.read_csv(\"/Users/krishnakamaladidam/Downloads/python3/wine_train.csv\",header=None)).values\n",
    "wine_train=wine_train[wine_train[:,-1]<3]\n",
    "wine_train_values=wine_train[:,[0,1]]\n",
    "wine_train_labels=wine_train[:,-1]\n"
   ]
  },
  {
   "cell_type": "code",
   "execution_count": 65,
   "metadata": {},
   "outputs": [
    {
     "name": "stdout",
     "output_type": "stream",
     "text": [
      "Data is Not linearly seperable\n",
      "final weight for training set for wine set is [[-504.9 ]\n",
      " [  38.92]\n",
      " [   1.1 ]]\n",
      "The error rate on training set for synthetic dataset 2 is 6.153846153846154 :\n",
      "The cost after iterations is -533.190000000006:\n"
     ]
    }
   ],
   "source": [
    "weight_final_wine_train,cost_wine_train=Perceptron_train(wine_train_values,1,2,wine_train_labels)\n",
    "classified_labels_wine=classify_data(weight_final_wine_train,wine_train_values)\n",
    "error_rate_train_wine=error_rate_calc(classified_labels_wine,wine_train_labels)\n",
    "print(\"final weight for training set for wine set is {0}\".format(weight_final_wine_train))\n",
    "print(\"The error rate on training set for synthetic dataset 2 is {0} :\".format(error_rate_train_wine))\n",
    "print(\"The cost after iterations is {0}:\".format(cost_wine_train))"
   ]
  },
  {
   "cell_type": "markdown",
   "metadata": {},
   "source": [
    "#### For wine test set"
   ]
  },
  {
   "cell_type": "code",
   "execution_count": 66,
   "metadata": {},
   "outputs": [],
   "source": [
    "wine_test=(pd.read_csv(\"/Users/krishnakamaladidam/Downloads/python3/wine_test.csv\",header=None)).values\n",
    "wine_test=wine_test[wine_test[:,-1]<3]\n",
    "wine_test_values=wine_test[:,[0,1]]\n",
    "wine_test_labels=wine_test[:,-1]\n"
   ]
  },
  {
   "cell_type": "code",
   "execution_count": 67,
   "metadata": {},
   "outputs": [
    {
     "name": "stdout",
     "output_type": "stream",
     "text": [
      "The error rate on test set for Wine dataset is 9.230769230769232:\n"
     ]
    }
   ],
   "source": [
    "classified_labels_wine_test=classify_data(weight_final_wine_train,wine_test_values)\n",
    "error_rate_test_wine=error_rate_calc(classified_labels_wine_test,wine_test_labels)\n",
    "\n",
    "print(\"The error rate on test set for Wine dataset is {0}:\".format(error_rate_test_wine))"
   ]
  }
 ],
 "metadata": {
  "interpreter": {
   "hash": "826595d4bd752bafb839317d33dfb0249df8f201d28e873c4cdae8c57e78dfe7"
  },
  "kernelspec": {
   "display_name": "Python 3",
   "language": "python",
   "name": "python3"
  },
  "language_info": {
   "codemirror_mode": {
    "name": "ipython",
    "version": 3
   },
   "file_extension": ".py",
   "mimetype": "text/x-python",
   "name": "python",
   "nbconvert_exporter": "python",
   "pygments_lexer": "ipython3",
   "version": "3.8.8"
  }
 },
 "nbformat": 4,
 "nbformat_minor": 2
}
